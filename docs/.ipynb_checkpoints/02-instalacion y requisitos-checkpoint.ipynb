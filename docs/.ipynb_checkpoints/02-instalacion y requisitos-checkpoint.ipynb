{
 "cells": [
  {
   "cell_type": "code",
   "execution_count": null,
   "id": "initial_id",
   "metadata": {
    "collapsed": true
   },
   "outputs": [],
   "source": [
    ""
   ]
  },
  {
   "metadata": {},
   "cell_type": "code",
   "outputs": [],
   "execution_count": null,
   "source": [
    "{\n",
    " \"cells\": [\n",
    "  {\n",
    "   \"cell_type\": \"markdown\",\n",
    "   \"metadata\": {},\n",
    "   \"source\": [\n",
    "    \"# 02 - Instalación y Requisitos\\n\",\n",
    "    \"\\n\",\n",
    "    \"## Requisitos del Sistema\\n\",\n",
    "    \"Para ejecutar el proyecto VerdeNica, asegúrate de que tu sistema cumpla con los siguientes requisitos:\\n\",\n",
    "    \"- **Sistema Operativo**: Windows, macOS o Linux.\\n\",\n",
    "    \"- **Python**: Versión 3.7 o superior.\\n\",\n",
    "    \"- **MySQL**: Versión 5.7 o superior.\\n\",\n",
    "    \"- **Docker**: Opcional, para la contenedorización del entorno.\\n\",\n",
    "    \"\\n\",\n",
    "    \"## Instalación de Dependencias\\n\",\n",
    "    \"Asegúrate de tener `pip` instalado para gestionar las dependencias de Python. Puedes instalar las dependencias necesarias ejecutando el siguiente comando:\\n\",\n",
    "    \"\\n\",\n",
    "    \"```bash\\n\",\n",
    "    \"pip install -r requirements.txt\\n\",\n",
    "    \"```\\n\",\n",
    "    \"\\n\",\n",
    "    \"## Configuración de la Base de Datos\\n\",\n",
    "    \"Antes de ejecutar la aplicación, asegúrate de crear la base de datos en MySQL:\\n\",\n",
    "    \"\\n\",\n",
    "    \"1. Accede a MySQL usando la línea de comandos o un cliente de base de datos.\\n\",\n",
    "    \"2. Ejecuta el siguiente comando para crear la base de datos:\\n\",\n",
    "    \"\\n\",\n",
    "    \"```sql\\n\",\n",
    "    \"CREATE DATABASE verdendb;\\n\",\n",
    "    \"```\\n\",\n",
    "    \"\\n\",\n",
    "    \"3. Asegúrate de importar cualquier esquema inicial usando el archivo `schema.sql`:\\n\",\n",
    "    \"\\n\",\n",
    "    \"```bash\\n\",\n",
    "    \"mysql -u username -p verdendb < schema.sql\\n\",\n",
    "    \"```\\n\",\n",
    "    \"Reemplaza `username` con tu nombre de usuario de MySQL.\\n\",\n",
    "    \"\\n\",\n",
    "    \"## Ejecución de la Aplicación\\n\",\n",
    "    \"Una vez que todo esté configurado, puedes ejecutar la aplicación usando:\\n\",\n",
    "    \"\\n\",\n",
    "    \"```bash\\n\",\n",
    "    \"python app.py\\n\",\n",
    "    \"```\\n\",\n",
    "    \"\\n\",\n",
    "    \"La aplicación estará disponible en `http://localhost:5000`.\"\n",
    "   ]\n",
    "  }\n",
    " ],\n",
    " \"metadata\": {\n",
    "  \"kernelspec\": {\n",
    "   \"display_name\": \"Python 3\",\n",
    "   \"language\": \"python\",\n",
    "   \"name\": \"python3\"\n",
    "  },\n",
    "  \"language_info\": {\n",
    "   \"codemirror_mode\": {\n",
    "    \"name\": \"ipython\",\n",
    "    \"version\": 3\n",
    "   },\n",
    "   \"file_extension\": \".py\",\n",
    "   \"mimetype\": \"text/x-python\",\n",
    "   \"name\": \"python\",\n",
    "   \"nbconvert_exporter\": \"python\",\n",
    "   \"version\": \"3.8.5\"\n",
    "  }\n",
    " },\n",
    " \"nbformat\": 4,\n",
    " \"nbformat_minor\": 4\n",
    "}\n"
   ],
   "id": "c2c6d78c5e21c6d8"
  }
 ],
 "metadata": {
  "kernelspec": {
   "display_name": "Python 3",
   "language": "python",
   "name": "python3"
  },
  "language_info": {
   "codemirror_mode": {
    "name": "ipython",
    "version": 2
   },
   "file_extension": ".py",
   "mimetype": "text/x-python",
   "name": "python",
   "nbconvert_exporter": "python",
   "pygments_lexer": "ipython2",
   "version": "2.7.6"
  }
 },
 "nbformat": 4,
 "nbformat_minor": 5
}
