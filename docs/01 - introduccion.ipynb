{
 "cells": [
  {
   "metadata": {},
   "cell_type": "markdown",
   "source": "",
   "id": "d921410e1489472b"
  },
  {
   "metadata": {},
   "cell_type": "markdown",
   "source": "",
   "id": "42f3566c7d5cd290"
  },
  {
   "metadata": {},
   "cell_type": "markdown",
   "source": [
    "# Introducción a VerdeNica\n",
    "\n",
    "## Objetivo del Proyecto\n",
    "VerdeNica es una plataforma web que tiene como objetivo educar y fomentar la participación comunitaria en la protección del medio ambiente, con un enfoque especial en la **concienciación sobre el cambio climático** y la **promoción de prácticas sostenibles** en Nicaragua.\n",
    "\n",
    "El proyecto está diseñado para proveer información científica y confiable sobre los fenómenos asociados al cambio climático, involucrar a las comunidades en la creación de campañas ambientales y ofrecer un foro donde los usuarios puedan compartir experiencias, denunciar problemas ambientales y promover acciones sostenibles.\n",
    "\n",
    "## Características Principales\n",
    "1. **Foro Comunitario**: Un espacio donde los usuarios pueden discutir temas relacionados con el medio ambiente, publicar iniciativas y generar conciencia sobre problemas locales.\n",
    "2. **Denuncias Ambientales**: Permite a los usuarios reportar incidentes ambientales (como deforestación, contaminación, entre otros), los cuales pueden ser monitoreados por entidades correspondientes.\n",
    "3. **Educación Ambiental**: Ofrece guías y recursos educativos sobre el cambio climático, la biodiversidad y la sostenibilidad.\n",
    "4. **Campañas Ecológicas**: Facilita la creación y promoción de campañas de reforestación, reciclaje, conservación de recursos, entre otros.\n",
    "5. **Reconocimiento de Especies Animales y Plantas Mediante IA**: Espacio impulsado por inteligencia artificial para reconocer una especie ya sea animal o vegetal mediante comparacion de imagenes \n",
    "\n",
    "\n",
    "## Público Objetivo\n",
    "El público objetivo de VerdeNica incluye:\n",
    "- **Comunidad general** interesada en la protección del medio ambiente.\n",
    "- **Activistas ambientales** que buscan una plataforma para promover sus campañas.\n",
    "- **Estudiantes y educadores** que necesitan recursos confiables sobre el cambio climático.\n",
    "- **Organizaciones no gubernamentales (ONGs)** y **gobiernos locales** que buscan monitorear incidentes ambientales.\n",
    "\n",
    "## Beneficios para los Usuarios\n",
    "Los usuarios de VerdeNica podrán:\n",
    "- Aprender sobre los fenómenos climáticos globales y cómo afectan a Nicaragua.\n",
    "- Contribuir al cambio mediante la creación de campañas de protección ambiental.\n",
    "- Reportar y monitorear problemas ambientales en su comunidad a través de denuncias ambientales.\n",
    "- Conectar con otras personas y organizaciones comprometidas con la sostenibilidad.\n",
    "- Documentar aspectos relacionados a la flora, fauna y medio ambiente a través del portal de publicaciones.\n",
    "- Reconocer especies (animales o plantas) mediante comparación de imágenes, impulsado por inteligencia artificial.\n",
    "\n",
    "## Colaboración y Derechso de Propiedad\n",
    "El equipo de desarrollo EcoWeb Devs se conserva la propiedad intelectual del proyecto.\n",
    "\n",
    "El proyecto se enmarca dentro de la comunidad de desarrolladores **EcoWeb Devs 2024** y se presenta como parte del **Hackathon Nicaragua EntornOS 2024**, buscando generar un impacto positivo a través de la tecnología.\n",
    "\n",
    "## Generación de Ingresos\n",
    "Generamos ingresos mediante:\n",
    "- Publicidad responsable.\n",
    "- Suscripciones premium y alianzas.\n",
    "- Crowdfunding y donaciones.\n",
    "- Servicios a terceros para cubrir costos de desarrollo, contenido, marketing y recursos humanos.\n",
    "\n",
    "## Relación con el Cliente\n",
    "Fomentamos la interacción comunitaria y establecemos alianzas clave con organizaciones ambientales, instituciones académicas y empresas tecnológicas. Esto crea una sólida relación con nuestros usuarios, promoviendo la participación activa en la plataforma.\n",
    "\n",
    "## Visión\n",
    "Imaginemos una Nicaragua donde cada persona, desde el agricultor hasta el estudiante, tenga la capacidad de tomar decisiones informadas que protejan nuestro planeta y favorezcan el desarrollo sostenible del país.\n",
    "\n",
    "> **¡Únete a nosotros y sé parte del cambio!**\n",
    "\n",
    "Puedes acceder al repositorio en GitHub [aquí](https://github.com/elmerurbina/EcoWeb_Devs).\n",
    "\n",
    "## Contacto\n",
    "Si tienes alguna duda o deseas más información sobre cómo contribuir al proyecto, puedes contactar a nuestro equipo:\n",
    "- **Elmer Urbina** - Coordinador del Proyecto y Desarrollador\n",
    "- **Josseline Bello** - Mercadologa\n",
    "- **Fares Aram Guido Rivas** - Diseñador\n",
    "- **Wilfran Osmel Salazar Diaz** - Diseñador\n",
    "- **Eliud Isai Robleto Oporta** - Diseñador\n",
    "\n",
    "> **Correo electrónico:** contacto@verdencia.com\n"
   ],
   "id": "79fa2a8bfa31fbb6"
  }
 ],
 "metadata": {
  "kernelspec": {
   "display_name": "Python 3 (ipykernel)",
   "language": "python",
   "name": "python3"
  },
  "language_info": {
   "codemirror_mode": {
    "name": "ipython",
    "version": 3
   },
   "file_extension": ".py",
   "mimetype": "text/x-python",
   "name": "python",
   "nbconvert_exporter": "python",
   "pygments_lexer": "ipython3",
   "version": "3.12.3"
  }
 },
 "nbformat": 4,
 "nbformat_minor": 5
}
